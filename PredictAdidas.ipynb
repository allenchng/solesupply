{
 "cells": [
  {
   "cell_type": "code",
   "execution_count": 1,
   "metadata": {},
   "outputs": [],
   "source": [
    "import pandas as pd\n",
    "import numpy as np\n",
    "import pystan\n",
    "import pandas as pd\n",
    "import numpy as np\n",
    "import time\n",
    "import diagnostics\n",
    "from pandas.tseries.holiday import USFederalHolidayCalendar as calendar\n",
    "from sklearn.preprocessing import StandardScaler\n",
    "\n",
    "import seaborn as sns\n",
    "\n",
    "import warnings; warnings.simplefilter('ignore')"
   ]
  },
  {
   "cell_type": "code",
   "execution_count": 2,
   "metadata": {},
   "outputs": [],
   "source": [
    "path = 'daily_brand_counts.csv'"
   ]
  },
  {
   "cell_type": "code",
   "execution_count": 3,
   "metadata": {},
   "outputs": [],
   "source": [
    "data = pd.read_csv(path, index_col=0)"
   ]
  },
  {
   "cell_type": "code",
   "execution_count": 4,
   "metadata": {},
   "outputs": [],
   "source": [
    "nike = data[data['brand'] == 'Nike']\n",
    "nike.columns =['brand', 'date', 'volume']\n",
    "nike.date = pd.to_datetime(nike.date)"
   ]
  },
  {
   "cell_type": "code",
   "execution_count": 5,
   "metadata": {},
   "outputs": [],
   "source": [
    "def EngineerFeatures(daily_volume, days_rolling, days_forward):\n",
    "    over_threshold = daily_volume[daily_volume['volume'] > 50]\n",
    "    \n",
    "    # Extract date information from transaction data\n",
    "\n",
    "    over_threshold['day_of_week'] = over_threshold['date'].dt.day_name()\n",
    "    over_threshold['month'] = over_threshold['date'].dt.month_name()\n",
    "    over_threshold['year'] = over_threshold['date'].dt.year\n",
    "    over_threshold['year'] = over_threshold['year'].astype('category')\n",
    "    \n",
    "    # Calculate moving average metrics\n",
    "    \n",
    "    over_threshold['rolling_mean_week'] = over_threshold['volume'].rolling(days_rolling).mean()\n",
    "    over_threshold['rolling_median_week'] = over_threshold['volume'].rolling(days_rolling).median()\n",
    "    over_threshold['rolling_max_week'] = over_threshold['volume'].rolling(days_rolling).max()\n",
    "    over_threshold['projected_volume'] = over_threshold.volume.shift(-days_forward)\n",
    "    \n",
    "    # Create predictor for holidays\n",
    "\n",
    "    dr = pd.date_range(start='2017-02-16', end='2019-06-16')\n",
    "    df = pd.DataFrame()\n",
    "    df['Date'] = dr\n",
    "\n",
    "    cal = calendar()\n",
    "    holidays = cal.holidays(start=dr.min(), end=dr.max())\n",
    "    holidays = list(holidays.strftime(\"%Y-%m-%d\"))\n",
    "    non_federal_holidays = ['2017-10-31', '2018-10-31', '2017-11-24', '2017-11-25', '2017-11-26', '2018-11-23', \n",
    "                            '2018-11-24', '2018-11-25', '2017-12-26', '2017-12-27', '2017-12-28', '2017-12-29',\n",
    "                            '2017-12-30', '2018-12-26', '2018-12-27', '2017-12-28', '2018-12-29', '2017-12-30']\n",
    "    \n",
    "    holidates = holidays + non_federal_holidays \n",
    "\n",
    "    over_threshold['holiday'] = over_threshold['date'].isin(non_federal_holidays).astype(int)\n",
    "    \n",
    "    # Load sneaker releases data\n",
    "\n",
    "    sneaker_releases = pd.read_csv('sneaker_metadata.csv')\n",
    "    \n",
    "#     sneaker_releases['is_yeezy'] = sneaker_releases.model.str.contains('Yeezy').astype(int)\n",
    "   \n",
    "#     special_releases = sneaker_releases.loc[:, ('is_yeezy', 'date')]\n",
    "    \n",
    "#     special_releases = special_releases.groupby('date').sum()\n",
    "#     special_releases['date'] = special_releases.index\n",
    "#     special_releases = special_releases.reset_index(drop=True)\n",
    "#     special_releases.date = pd.to_datetime(special_releases.date)\n",
    "    \n",
    "#     over_threshold = pd.merge(over_threshold, special_releases, how = 'left', on = 'date')\n",
    "#     over_threshold.is_yeezy = over_threshold.is_yeezy.fillna(0)\n",
    "#     over_threshold['is_yeezy'] = over_threshold['is_yeezy'].shift(-days_forward)\n",
    "    \n",
    "\n",
    "    non_nike_releases = sneaker_releases[sneaker_releases['brand'] == 'adidas']\n",
    "    non_nike_releases.releaseDate = non_nike_releases.releaseDate.str.split(' ').str[0]\n",
    "    non_nike_releases = non_nike_releases.loc[:, ('brand', 'releaseDate')]\n",
    "    \n",
    "    non_release_count = non_nike_releases.groupby('releaseDate').count()\n",
    "    non_release_count['date'] = non_release_count.index\n",
    "    non_release_count.date = pd.to_datetime(non_release_count.date)\n",
    "    non_release_count = non_release_count.reset_index(drop=True)\n",
    "    non_release_count.columns = ['non_nike_releases', 'date']\n",
    "\n",
    "    \n",
    "    merged_release = pd.merge(over_threshold, non_release_count, how = 'left', on='date')\n",
    "    merged_release.non_nike_releases = merged_release.non_nike_releases.fillna(0)\n",
    "    \n",
    "    merged_release['non_nike_releases'] = merged_release['non_nike_releases'].shift(-days_forward)\n",
    "    \n",
    "    return merged_release\n",
    "#     return over_threshold"
   ]
  },
  {
   "cell_type": "code",
   "execution_count": 6,
   "metadata": {},
   "outputs": [],
   "source": [
    "model_df = EngineerFeatures(nike, 7, 5)"
   ]
  },
  {
   "cell_type": "code",
   "execution_count": 7,
   "metadata": {},
   "outputs": [
    {
     "data": {
      "text/html": [
       "<div>\n",
       "<style scoped>\n",
       "    .dataframe tbody tr th:only-of-type {\n",
       "        vertical-align: middle;\n",
       "    }\n",
       "\n",
       "    .dataframe tbody tr th {\n",
       "        vertical-align: top;\n",
       "    }\n",
       "\n",
       "    .dataframe thead th {\n",
       "        text-align: right;\n",
       "    }\n",
       "</style>\n",
       "<table border=\"1\" class=\"dataframe\">\n",
       "  <thead>\n",
       "    <tr style=\"text-align: right;\">\n",
       "      <th></th>\n",
       "      <th>brand</th>\n",
       "      <th>date</th>\n",
       "      <th>volume</th>\n",
       "      <th>day_of_week</th>\n",
       "      <th>month</th>\n",
       "      <th>year</th>\n",
       "      <th>rolling_mean_week</th>\n",
       "      <th>rolling_median_week</th>\n",
       "      <th>rolling_max_week</th>\n",
       "      <th>projected_volume</th>\n",
       "      <th>holiday</th>\n",
       "      <th>non_nike_releases</th>\n",
       "    </tr>\n",
       "  </thead>\n",
       "  <tbody>\n",
       "    <tr>\n",
       "      <th>0</th>\n",
       "      <td>Nike</td>\n",
       "      <td>2017-08-22</td>\n",
       "      <td>58</td>\n",
       "      <td>Tuesday</td>\n",
       "      <td>August</td>\n",
       "      <td>2017</td>\n",
       "      <td>NaN</td>\n",
       "      <td>NaN</td>\n",
       "      <td>NaN</td>\n",
       "      <td>70.0</td>\n",
       "      <td>0</td>\n",
       "      <td>0.0</td>\n",
       "    </tr>\n",
       "    <tr>\n",
       "      <th>1</th>\n",
       "      <td>Nike</td>\n",
       "      <td>2017-08-23</td>\n",
       "      <td>96</td>\n",
       "      <td>Wednesday</td>\n",
       "      <td>August</td>\n",
       "      <td>2017</td>\n",
       "      <td>NaN</td>\n",
       "      <td>NaN</td>\n",
       "      <td>NaN</td>\n",
       "      <td>51.0</td>\n",
       "      <td>0</td>\n",
       "      <td>0.0</td>\n",
       "    </tr>\n",
       "    <tr>\n",
       "      <th>2</th>\n",
       "      <td>Nike</td>\n",
       "      <td>2017-08-24</td>\n",
       "      <td>309</td>\n",
       "      <td>Thursday</td>\n",
       "      <td>August</td>\n",
       "      <td>2017</td>\n",
       "      <td>NaN</td>\n",
       "      <td>NaN</td>\n",
       "      <td>NaN</td>\n",
       "      <td>59.0</td>\n",
       "      <td>0</td>\n",
       "      <td>2.0</td>\n",
       "    </tr>\n",
       "    <tr>\n",
       "      <th>3</th>\n",
       "      <td>Nike</td>\n",
       "      <td>2017-08-25</td>\n",
       "      <td>89</td>\n",
       "      <td>Friday</td>\n",
       "      <td>August</td>\n",
       "      <td>2017</td>\n",
       "      <td>NaN</td>\n",
       "      <td>NaN</td>\n",
       "      <td>NaN</td>\n",
       "      <td>64.0</td>\n",
       "      <td>0</td>\n",
       "      <td>3.0</td>\n",
       "    </tr>\n",
       "    <tr>\n",
       "      <th>4</th>\n",
       "      <td>Nike</td>\n",
       "      <td>2017-08-26</td>\n",
       "      <td>87</td>\n",
       "      <td>Saturday</td>\n",
       "      <td>August</td>\n",
       "      <td>2017</td>\n",
       "      <td>NaN</td>\n",
       "      <td>NaN</td>\n",
       "      <td>NaN</td>\n",
       "      <td>109.0</td>\n",
       "      <td>0</td>\n",
       "      <td>0.0</td>\n",
       "    </tr>\n",
       "  </tbody>\n",
       "</table>\n",
       "</div>"
      ],
      "text/plain": [
       "  brand       date  volume day_of_week   month  year  rolling_mean_week  \\\n",
       "0  Nike 2017-08-22      58     Tuesday  August  2017                NaN   \n",
       "1  Nike 2017-08-23      96   Wednesday  August  2017                NaN   \n",
       "2  Nike 2017-08-24     309    Thursday  August  2017                NaN   \n",
       "3  Nike 2017-08-25      89      Friday  August  2017                NaN   \n",
       "4  Nike 2017-08-26      87    Saturday  August  2017                NaN   \n",
       "\n",
       "   rolling_median_week  rolling_max_week  projected_volume  holiday  \\\n",
       "0                  NaN               NaN              70.0        0   \n",
       "1                  NaN               NaN              51.0        0   \n",
       "2                  NaN               NaN              59.0        0   \n",
       "3                  NaN               NaN              64.0        0   \n",
       "4                  NaN               NaN             109.0        0   \n",
       "\n",
       "   non_nike_releases  \n",
       "0                0.0  \n",
       "1                0.0  \n",
       "2                2.0  \n",
       "3                3.0  \n",
       "4                0.0  "
      ]
     },
     "execution_count": 7,
     "metadata": {},
     "output_type": "execute_result"
    }
   ],
   "source": [
    "model_df.head()"
   ]
  },
  {
   "cell_type": "code",
   "execution_count": 8,
   "metadata": {},
   "outputs": [],
   "source": [
    "cat_bool = ['day_of_week', 'month', 'year', 'holiday', 'date']\n",
    "cat_df = model_df.loc[:, (cat_bool)]"
   ]
  },
  {
   "cell_type": "code",
   "execution_count": 9,
   "metadata": {},
   "outputs": [],
   "source": [
    "numer_df = model_df.loc[:, ('volume', 'rolling_mean_week', 'rolling_median_week', \n",
    "                    'rolling_max_week', 'non_nike_releases', 'projected_volume')]"
   ]
  },
  {
   "cell_type": "code",
   "execution_count": 10,
   "metadata": {
    "scrolled": true
   },
   "outputs": [],
   "source": [
    "scaler = StandardScaler() \n",
    "scaled_values = scaler.fit_transform(numer_df) \n",
    "numer_df.loc[:,:] = scaled_values"
   ]
  },
  {
   "cell_type": "code",
   "execution_count": 11,
   "metadata": {},
   "outputs": [],
   "source": [
    "model_df = pd.concat([cat_df, numer_df], axis=1, sort=False)\n",
    "model_df.date = pd.to_datetime(model_df.date)"
   ]
  },
  {
   "cell_type": "code",
   "execution_count": 12,
   "metadata": {},
   "outputs": [],
   "source": [
    "def SplitTrainTest(model_df, train_pct):\n",
    "    \n",
    "    model_df = model_df[model_df['date'] > '2017-10-30']\n",
    "    data = model_df.drop(\"date\", axis=1)\n",
    "    \n",
    "    rf_df = pd.get_dummies(data)\n",
    "    rf_df = rf_df.dropna()\n",
    "    rf_df = rf_df.reset_index(drop = True)\n",
    "\n",
    "    # Labels are the values we want to predict\n",
    "    labels = np.array(rf_df['projected_volume'])\n",
    "\n",
    "    # Remove the labels from the features\n",
    "    # axis 1 refers to the columns\n",
    "    features= rf_df.drop('projected_volume', axis = 1)\n",
    "\n",
    "    # Saving feature names for later use\n",
    "    feature_list = list(features.columns)\n",
    "\n",
    "    # Convert to numpy array\n",
    "    features = np.array(features)\n",
    "    \n",
    "    split_axis = round(len(model_df) * train_pct)\n",
    "    \n",
    "    train = rf_df[:split_axis]\n",
    "    test = rf_df[split_axis:-6]\n",
    "\n",
    "    train_labels = np.array(train['projected_volume'])\n",
    "    train_features = train.drop('projected_volume', axis = 1)\n",
    "\n",
    "    test_labels = np.array(test['projected_volume'])\n",
    "    test_features = test.drop('projected_volume', axis = 1)\n",
    "\n",
    "    return train_features, train_labels, test_features, test_labels"
   ]
  },
  {
   "cell_type": "code",
   "execution_count": 13,
   "metadata": {},
   "outputs": [],
   "source": [
    "train_features, train_labels, test_features, test_labels = SplitTrainTest(model_df, train_pct = 0.9)"
   ]
  },
  {
   "cell_type": "raw",
   "metadata": {},
   "source": [
    "model_df['rolling_releases'] = model_df.non_nike_releases.iloc[::-3].rolling(3, min_periods=0).sum().iloc[::-1]"
   ]
  },
  {
   "cell_type": "code",
   "execution_count": 14,
   "metadata": {},
   "outputs": [],
   "source": [
    "lin_reg_normal = \"\"\"\n",
    "    /* Spec for robust linear regression model */\n",
    "    data {                                 \n",
    "        int<lower=0> N;                     // count of observations\n",
    "        int<lower=0> K;                     // count of features\n",
    "        matrix[N, K] X;                     // feature matrix\n",
    "        real y[N];          // target\n",
    "    }\n",
    "    parameters {\n",
    "        real alpha;                         // constant\n",
    "        vector[K] beta;                     // feature coefficients\n",
    "        real<lower=0> sigma;\n",
    "    }\n",
    "    model { \n",
    "        alpha ~ normal(0,2);              // prior\n",
    "        beta ~ normal(0,2);              // prior\n",
    "        y ~ normal(alpha + X * beta, sigma);         // likelihood\n",
    "    }\n",
    "    generated quantities {}\n",
    "    \"\"\""
   ]
  },
  {
   "cell_type": "code",
   "execution_count": 15,
   "metadata": {},
   "outputs": [
    {
     "name": "stderr",
     "output_type": "stream",
     "text": [
      "INFO:pystan:COMPILING THE C++ CODE FOR MODEL anon_model_7d5dc90c9cb521470cde6ef08c270095 NOW.\n"
     ]
    }
   ],
   "source": [
    "start = time.time()\n",
    "\n",
    "stan_datadict = {}\n",
    "stan_datadict['N'] = train_features.shape[0]\n",
    "stan_datadict['K'] = train_features.shape[1]\n",
    "stan_datadict['X'] = train_features.values\n",
    "stan_datadict['y'] = train_labels\n",
    "\n",
    "model = pystan.StanModel(model_code=lin_reg_normal)"
   ]
  },
  {
   "cell_type": "code",
   "execution_count": 16,
   "metadata": {},
   "outputs": [
    {
     "name": "stderr",
     "output_type": "stream",
     "text": [
      "WARNING:pystan:38 of 3000 iterations saturated the maximum tree depth of 10 (1.27 %)\n",
      "WARNING:pystan:Run again with max_treedepth larger than 10 to avoid saturation\n"
     ]
    },
    {
     "name": "stdout",
     "output_type": "stream",
     "text": [
      "73.871915102005\n"
     ]
    }
   ],
   "source": [
    "fit = model.sampling(data=stan_datadict,\n",
    "                warmup=250,\n",
    "                iter = 1000, \n",
    "                verbose = True)\n",
    "\n",
    "end = time.time()\n",
    "print(str(end-start))"
   ]
  },
  {
   "cell_type": "code",
   "execution_count": 17,
   "metadata": {},
   "outputs": [
    {
     "name": "stdout",
     "output_type": "stream",
     "text": [
      "38 of 3000 iterations saturated the maximum tree depth of 10 (1.2666666666666666%)\n",
      "  Run again with max_depth set to a larger value to avoid saturation\n",
      "None\n",
      "E-BFMI indicated no pathological behavior\n",
      "None\n",
      "0.0 of 3000 iterations ended with a divergence (0.0%)\n",
      "None\n"
     ]
    }
   ],
   "source": [
    "print(diagnostics.check_treedepth(fit))\n",
    "print(diagnostics.check_energy(fit))\n",
    "print(diagnostics.check_div(fit))"
   ]
  },
  {
   "cell_type": "code",
   "execution_count": 18,
   "metadata": {},
   "outputs": [],
   "source": [
    "b = fit.extract(['alpha'])['alpha'].mean()\n",
    "w = fit.extract(['beta'])['beta'].mean(axis=0)"
   ]
  },
  {
   "cell_type": "code",
   "execution_count": 19,
   "metadata": {},
   "outputs": [
    {
     "data": {
      "text/plain": [
       "0.005699407414867738"
      ]
     },
     "execution_count": 19,
     "metadata": {},
     "output_type": "execute_result"
    }
   ],
   "source": [
    "b"
   ]
  },
  {
   "cell_type": "code",
   "execution_count": 20,
   "metadata": {},
   "outputs": [
    {
     "data": {
      "text/plain": [
       "array([-0.09483534,  0.23942135, -0.03205957,  0.14274761, -0.01423736,\n",
       "        0.04493981, -0.01941183, -0.00169911,  0.08218581,  0.18394247,\n",
       "       -0.06586453, -0.26798205, -0.08122704, -0.17122466,  0.24084508,\n",
       "        0.69201338, -0.21116861, -0.58694305,  0.02190023, -0.29704462,\n",
       "       -0.37867465, -0.26043726,  0.69082443,  0.15021652,  0.11535383,\n",
       "       -1.06086815, -0.12956443,  1.09380703])"
      ]
     },
     "execution_count": 20,
     "metadata": {},
     "output_type": "execute_result"
    }
   ],
   "source": [
    "w"
   ]
  },
  {
   "cell_type": "code",
   "execution_count": 21,
   "metadata": {},
   "outputs": [
    {
     "data": {
      "text/plain": [
       "Index(['holiday', 'volume', 'rolling_mean_week', 'rolling_median_week',\n",
       "       'rolling_max_week', 'non_nike_releases', 'day_of_week_Friday',\n",
       "       'day_of_week_Monday', 'day_of_week_Saturday', 'day_of_week_Sunday',\n",
       "       'day_of_week_Thursday', 'day_of_week_Tuesday', 'day_of_week_Wednesday',\n",
       "       'month_April', 'month_August', 'month_December', 'month_February',\n",
       "       'month_January', 'month_July', 'month_June', 'month_March', 'month_May',\n",
       "       'month_November', 'month_October', 'month_September', 'year_2017',\n",
       "       'year_2018', 'year_2019'],\n",
       "      dtype='object')"
      ]
     },
     "execution_count": 21,
     "metadata": {},
     "output_type": "execute_result"
    }
   ],
   "source": [
    "train_features.columns"
   ]
  },
  {
   "cell_type": "code",
   "execution_count": 22,
   "metadata": {},
   "outputs": [],
   "source": [
    "predictions = test_features@w + b"
   ]
  },
  {
   "cell_type": "code",
   "execution_count": 23,
   "metadata": {},
   "outputs": [],
   "source": [
    "numer_test_features = test_features.loc[:, ('volume', 'rolling_mean_week', 'rolling_median_week', \n",
    "                    'rolling_max_week', 'non_nike_releases')]"
   ]
  },
  {
   "cell_type": "code",
   "execution_count": 24,
   "metadata": {},
   "outputs": [],
   "source": [
    "unscale_test = pd.concat([numer_test_features, predictions],axis=1)\n",
    "unscale_test.columns = ['volume', 'rolling_mean_week', 'rolling_median_week', \n",
    "                    'rolling_max_week', 'non_nike_releases', 'projected_volume']\n",
    "unscaled_predictions = scaler.inverse_transform(unscale_test)\n",
    "unscale_test.loc[:,:] = unscaled_predictions\n",
    "unscaled_predictions = unscale_test.projected_volume"
   ]
  },
  {
   "cell_type": "code",
   "execution_count": 25,
   "metadata": {},
   "outputs": [],
   "source": [
    "test_labels_df = pd.Series(test_labels)\n",
    "test_labels_df.index = numer_test_features.index\n",
    "unscale_labels = pd.concat([numer_test_features, test_labels_df],axis=1)\n",
    "unscale_labels.columns = ['volume', 'rolling_mean_week', 'rolling_median_week', \n",
    "                    'rolling_max_week', 'non_nike_releases', 'projected_volume']"
   ]
  },
  {
   "cell_type": "code",
   "execution_count": 26,
   "metadata": {},
   "outputs": [],
   "source": [
    "unscaled_test_labels = scaler.inverse_transform(unscale_labels)\n",
    "unscale_labels.loc[:,:] = unscaled_test_labels"
   ]
  },
  {
   "cell_type": "code",
   "execution_count": 27,
   "metadata": {},
   "outputs": [],
   "source": [
    "observed = unscale_labels.projected_volume\n",
    "persistance_prediction = unscale_labels.volume"
   ]
  },
  {
   "cell_type": "code",
   "execution_count": 28,
   "metadata": {},
   "outputs": [
    {
     "data": {
      "text/plain": [
       "[Text(0, 0.5, 'Observed'), Text(0.5, 0, 'Predicted')]"
      ]
     },
     "execution_count": 28,
     "metadata": {},
     "output_type": "execute_result"
    },
    {
     "data": {
      "image/png": "[encoded data removed]",
      "text/plain": [
       "<Figure size 432x288 with 1 Axes>"
      ]
     },
     "metadata": {
      "needs_background": "light"
     },
     "output_type": "display_data"
    }
   ],
   "source": [
    "fig = sns.regplot(x=unscaled_predictions, y=observed)\n",
    "fig.set(xlabel='Predicted', ylabel='Observed')"
   ]
  },
  {
   "cell_type": "code",
   "execution_count": 29,
   "metadata": {},
   "outputs": [
    {
     "name": "stdout",
     "output_type": "stream",
     "text": [
      "Mean Absolute Percentage Error - Baseline: 35.0\n",
      "Mean Absolute Percentage Error - Bayes: 26.0\n"
     ]
    }
   ],
   "source": [
    "print('Mean Absolute Percentage Error - Baseline:', round(np.mean(np.abs((observed - persistance_prediction) / observed)) * 100))\n",
    "print('Mean Absolute Percentage Error - Bayes:', round(np.mean(np.abs((observed - unscaled_predictions) / observed)) * 100))\n"
   ]
  },
  {
   "cell_type": "raw",
   "metadata": {},
   "source": [
    "print('Mean Absolute Percentage Error - Baseline:', round(np.mean(np.abs((test_labels - test_features.volume) / test_labels)) * 100))\n",
    "print('Mean Absolute Percentage Error - Bayes:', round(np.mean(np.abs((test_labels - predictions) / test_labels)) * 100))\n"
   ]
  },
  {
   "cell_type": "code",
   "execution_count": 30,
   "metadata": {},
   "outputs": [],
   "source": [
    "samples = fit.extract()\n",
    "beta = samples['beta']\n",
    "\n",
    "col_names = test_features.columns\n",
    "weights = pd.DataFrame(beta)\n",
    "weights.columns = col_names\n",
    "melted_weights = weights.melt()"
   ]
  },
  {
   "cell_type": "code",
   "execution_count": 32,
   "metadata": {},
   "outputs": [
    {
     "data": {
      "image/png": "[encoded data removed]",
      "text/plain": [
       "<Figure size 648x216 with 3 Axes>"
      ]
     },
     "metadata": {
      "needs_background": "light"
     },
     "output_type": "display_data"
    }
   ],
   "source": [
    "desired_features = ['volume', 'rolling_mean_week', 'upcoming_release', 'non_nike_releases']\n",
    "posterior_features = melted_weights[melted_weights['variable'].isin(desired_features)]\n",
    "g = sns.FacetGrid(posterior_features, col='variable', sharex=False, sharey=False)\n",
    "g = g.map(sns.distplot, \"value\")"
   ]
  },
  {
   "cell_type": "code",
   "execution_count": null,
   "metadata": {},
   "outputs": [],
   "source": []
  },
  {
   "cell_type": "code",
   "execution_count": null,
   "metadata": {},
   "outputs": [],
   "source": []
  }
 ],
 "metadata": {
  "kernelspec": {
   "display_name": "Python 3",
   "language": "python",
   "name": "python3"
  },
  "language_info": {
   "codemirror_mode": {
    "name": "ipython",
    "version": 3
   },
   "file_extension": ".py",
   "mimetype": "text/x-python",
   "name": "python",
   "nbconvert_exporter": "python",
   "pygments_lexer": "ipython3",
   "version": "3.7.3"
  }
 },
 "nbformat": 4,
 "nbformat_minor": 2
}
