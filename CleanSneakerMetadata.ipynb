{
 "cells": [
  {
   "cell_type": "code",
   "execution_count": 1,
   "metadata": {},
   "outputs": [],
   "source": [
    "import pandas as pd\n",
    "import numpy as np\n",
    "import datetime\n",
    "import pickle\n",
    "import numpy as np\n",
    "import matplotlib\n",
    "\n",
    "import warnings; warnings.simplefilter('ignore')\n"
   ]
  },
  {
   "cell_type": "code",
   "execution_count": 2,
   "metadata": {},
   "outputs": [],
   "source": [
    "path = 'sneaker_metadata.csv'"
   ]
  },
  {
   "cell_type": "code",
   "execution_count": 3,
   "metadata": {},
   "outputs": [],
   "source": [
    "def CleanData(path):\n",
    "    data = pd.read_csv(path)\n",
    "    subset = data.loc[:, ('brand', 'color', 'model', 'name', 'releaseDate', 'sku')]\n",
    "    \n",
    "    subset['date'] = subset['releaseDate'].str.split(\" \", n = 1, expand = True)[0]\n",
    "    new = subset[\"color\"].str.split(\"/\", n = 1, expand = True)\n",
    "    subset['color1'] = new[0]\n",
    "    subset['color2'] = new[1].str.replace('-', ' ')\n",
    "    subset['name'] = subset.name.astype(str)\n",
    "    subset['brand'] = subset.brand.astype(str)\n",
    "    subset['name'] = subset.name.replace(subset.brand[subset.brand.notnull()], '', regex = True).str.strip()\n",
    "    subset['name'] = subset.name.replace(subset.color1[subset.color1.notnull()], '', regex = True).str.strip()\n",
    "    subset['name'] = subset.name.replace(subset.color2[subset.color2.notnull()], '', regex = True).str.strip()\n",
    "    subset['name'] = subset.name.replace(subset.model[subset.model.notnull()], '', regex = True).str.strip()\n",
    "    subset['model'] = subset.model.replace(subset.brand[subset.brand.notnull()], '', regex = True).str.strip()\n",
    "    subset['name'] = subset.name.str.replace('sacai', 'Sacai').str.replace('&#x27;', '')\n",
    "\n",
    "    collaborators = ['Sacai', 'Fear Of God', 'Undercover', 'OFF-WHITE', 'yeezy', 'Comme Des Garcons', 'JW Anderson', 'Travis Scott']\n",
    "\n",
    "    pattern = '|'.join(collaborators)\n",
    "\n",
    "    subset['collab'] = subset.name.str.contains(pattern).astype(int)\n",
    "    subset['is_retro'] = subset.model.str.contains('Retro').astype(int)\n",
    "    \n",
    "    model_df = subset.loc[:, ('brand', 'color1', 'model', 'collab', 'name', 'is_retro', 'releaseDate','sku')]\n",
    "    \n",
    "    return(model_df)\n"
   ]
  },
  {
   "cell_type": "code",
   "execution_count": 4,
   "metadata": {},
   "outputs": [],
   "source": [
    "data = CleanData(path)"
   ]
  },
  {
   "cell_type": "code",
   "execution_count": 21,
   "metadata": {},
   "outputs": [],
   "source": [
    "sneaker_transactions = pd.read_csv('sneaker_transactions.csv')"
   ]
  },
  {
   "cell_type": "code",
   "execution_count": 22,
   "metadata": {},
   "outputs": [],
   "source": [
    "def MergeDataFrame(left, right):\n",
    "    full_df = pd.merge(left, right, on = 'sku')\n",
    "    \n",
    "    full_df.shoeSize = full_df.shoeSize.astype(str)\n",
    "    full_df = full_df[~full_df.shoeSize.str.contains(\"Y\")]\n",
    "    full_df = full_df[~full_df.shoeSize.str.contains('K')]\n",
    "    full_df.shoeSize = full_df.shoeSize.astype('float')\n",
    "    full_df = full_df[(full_df['shoeSize'] >= 4.0) & (full_df['shoeSize'] <= 15.0)]\n",
    "    full_df.shoeSize = full_df.shoeSize.astype('category')\n",
    "    \n",
    "    full_df.color1 = full_df.color1.str.lower()\n",
    "    \n",
    "    return(full_df)"
   ]
  },
  {
   "cell_type": "code",
   "execution_count": 23,
   "metadata": {},
   "outputs": [],
   "source": [
    "merged_df = MergeDataFrame(data, sneaker_transactions)"
   ]
  },
  {
   "cell_type": "code",
   "execution_count": 25,
   "metadata": {},
   "outputs": [],
   "source": [
    "unique_models = merged_df.sku.value_counts().rename_axis('unique_values').reset_index(name='counts')\n",
    "thousand_transactions = unique_models[unique_models['counts'] >= 1000]"
   ]
  },
  {
   "cell_type": "code",
   "execution_count": 26,
   "metadata": {},
   "outputs": [],
   "source": [
    "subbed_df = merged_df[merged_df['sku'].isin(thousand_transactions.unique_values)]"
   ]
  },
  {
   "cell_type": "code",
   "execution_count": 29,
   "metadata": {},
   "outputs": [],
   "source": [
    "sneaker_colors = pd.read_csv('sneaker_colors_gvision.csv')"
   ]
  },
  {
   "cell_type": "code",
   "execution_count": 30,
   "metadata": {},
   "outputs": [
    {
     "data": {
      "text/html": [
       "<div>\n",
       "<style scoped>\n",
       "    .dataframe tbody tr th:only-of-type {\n",
       "        vertical-align: middle;\n",
       "    }\n",
       "\n",
       "    .dataframe tbody tr th {\n",
       "        vertical-align: top;\n",
       "    }\n",
       "\n",
       "    .dataframe thead th {\n",
       "        text-align: right;\n",
       "    }\n",
       "</style>\n",
       "<table border=\"1\" class=\"dataframe\">\n",
       "  <thead>\n",
       "    <tr style=\"text-align: right;\">\n",
       "      <th></th>\n",
       "      <th>Unnamed: 0</th>\n",
       "      <th>sku</th>\n",
       "      <th>colors</th>\n",
       "    </tr>\n",
       "  </thead>\n",
       "  <tbody>\n",
       "    <tr>\n",
       "      <th>0</th>\n",
       "      <td>0</td>\n",
       "      <td>c3328941-e1cc-45be-8607-cb680186dc5e</td>\n",
       "      <td>indianred</td>\n",
       "    </tr>\n",
       "    <tr>\n",
       "      <th>1</th>\n",
       "      <td>1</td>\n",
       "      <td>e8a9fd74-4cbd-4463-998f-22b865c8794f</td>\n",
       "      <td>darkslategrey</td>\n",
       "    </tr>\n",
       "    <tr>\n",
       "      <th>2</th>\n",
       "      <td>2</td>\n",
       "      <td>beec84b5-7cb1-49d7-a942-e08aa4995b56</td>\n",
       "      <td>black</td>\n",
       "    </tr>\n",
       "    <tr>\n",
       "      <th>3</th>\n",
       "      <td>3</td>\n",
       "      <td>f949df96-5b8d-4012-93c5-e44af694b06b</td>\n",
       "      <td>silver</td>\n",
       "    </tr>\n",
       "    <tr>\n",
       "      <th>4</th>\n",
       "      <td>4</td>\n",
       "      <td>02ff6c84-99bc-46ca-854d-1e5062b8ad1e</td>\n",
       "      <td>brown</td>\n",
       "    </tr>\n",
       "  </tbody>\n",
       "</table>\n",
       "</div>"
      ],
      "text/plain": [
       "   Unnamed: 0                                   sku         colors\n",
       "0           0  c3328941-e1cc-45be-8607-cb680186dc5e      indianred\n",
       "1           1  e8a9fd74-4cbd-4463-998f-22b865c8794f  darkslategrey\n",
       "2           2  beec84b5-7cb1-49d7-a942-e08aa4995b56          black\n",
       "3           3  f949df96-5b8d-4012-93c5-e44af694b06b         silver\n",
       "4           4  02ff6c84-99bc-46ca-854d-1e5062b8ad1e          brown"
      ]
     },
     "execution_count": 30,
     "metadata": {},
     "output_type": "execute_result"
    }
   ],
   "source": [
    "sneaker_colors.head()"
   ]
  },
  {
   "cell_type": "code",
   "execution_count": 32,
   "metadata": {},
   "outputs": [],
   "source": [
    "df = subbed_df.merge(sneaker_colors, how='left', on='sku')"
   ]
  },
  {
   "cell_type": "code",
   "execution_count": 34,
   "metadata": {},
   "outputs": [],
   "source": [
    "df.color1[df.color1.str.contains('white')] = 'white'\n",
    "df.color1[df.color1.str.contains('black')] = 'black'\n",
    "df.color1[df.color1.str.contains('blue')] = 'blue'\n",
    "df.color1[df.color1.str.contains('green')] = 'green'\n",
    "df.color1[df.color1.str.contains('yellow')] = 'yellow'\n",
    "df.color1[df.color1.str.contains('grey')] = 'grey'\n",
    "df.color1[df.color1.str.contains('gray')] = 'grey'\n",
    "df.color1[df.color1.str.contains('silver')] = 'silver'\n",
    "df.color1[df.color1.str.contains('red')] = 'red'\n",
    "df.color1[df.color1.str.contains('purple')] = 'purple'\n",
    "df.color1[df.color1.str.contains('pink')] = 'pink'\n",
    "df.color1[df.color1.str.contains('navy')] = 'navy'\n",
    "df.color1[df.color1.str.contains('orange')] = 'orange'\n",
    "df.color1[df.color1.str.contains('sail')] = 'white'\n",
    "df.color1[df.color1.str.contains('brown')] = 'brown'"
   ]
  },
  {
   "cell_type": "code",
   "execution_count": 35,
   "metadata": {},
   "outputs": [],
   "source": [
    "roygbiv = ['white', 'black', 'blue', 'green', 'yellow', 'grey', 'silver' ,'red', 'purple', 'pink', 'navy', 'orange', 'brown'] "
   ]
  },
  {
   "cell_type": "code",
   "execution_count": 36,
   "metadata": {},
   "outputs": [],
   "source": [
    "top_colors = df[df['color1'].isin(roygbiv)]"
   ]
  },
  {
   "cell_type": "code",
   "execution_count": 37,
   "metadata": {},
   "outputs": [
    {
     "data": {
      "text/html": [
       "<div>\n",
       "<style scoped>\n",
       "    .dataframe tbody tr th:only-of-type {\n",
       "        vertical-align: middle;\n",
       "    }\n",
       "\n",
       "    .dataframe tbody tr th {\n",
       "        vertical-align: top;\n",
       "    }\n",
       "\n",
       "    .dataframe thead th {\n",
       "        text-align: right;\n",
       "    }\n",
       "</style>\n",
       "<table border=\"1\" class=\"dataframe\">\n",
       "  <thead>\n",
       "    <tr style=\"text-align: right;\">\n",
       "      <th></th>\n",
       "      <th>Unnamed: 0_x</th>\n",
       "      <th>sku</th>\n",
       "      <th>localAmount</th>\n",
       "      <th>createdAt</th>\n",
       "      <th>localCurrency</th>\n",
       "      <th>shoeSize</th>\n",
       "      <th>brand</th>\n",
       "      <th>color1</th>\n",
       "      <th>model</th>\n",
       "      <th>collab</th>\n",
       "      <th>name</th>\n",
       "      <th>is_retro</th>\n",
       "      <th>releaseDate</th>\n",
       "      <th>Unnamed: 0_y</th>\n",
       "      <th>colors</th>\n",
       "    </tr>\n",
       "  </thead>\n",
       "  <tbody>\n",
       "    <tr>\n",
       "      <th>6420</th>\n",
       "      <td>0</td>\n",
       "      <td>b209a35a-bee6-4b30-a8c3-931d429ac4db</td>\n",
       "      <td>179.0</td>\n",
       "      <td>2019-06-16T21:30:09+00:00</td>\n",
       "      <td>USD</td>\n",
       "      <td>11.0</td>\n",
       "      <td>Nike</td>\n",
       "      <td>black</td>\n",
       "      <td>Air VaporMax Plus</td>\n",
       "      <td>0</td>\n",
       "      <td>Triple</td>\n",
       "      <td>0</td>\n",
       "      <td>2018-01-25 23-59-59</td>\n",
       "      <td>144</td>\n",
       "      <td>black</td>\n",
       "    </tr>\n",
       "    <tr>\n",
       "      <th>6421</th>\n",
       "      <td>1</td>\n",
       "      <td>b209a35a-bee6-4b30-a8c3-931d429ac4db</td>\n",
       "      <td>180.0</td>\n",
       "      <td>2019-06-16T17:04:27+00:00</td>\n",
       "      <td>USD</td>\n",
       "      <td>12.0</td>\n",
       "      <td>Nike</td>\n",
       "      <td>black</td>\n",
       "      <td>Air VaporMax Plus</td>\n",
       "      <td>0</td>\n",
       "      <td>Triple</td>\n",
       "      <td>0</td>\n",
       "      <td>2018-01-25 23-59-59</td>\n",
       "      <td>144</td>\n",
       "      <td>black</td>\n",
       "    </tr>\n",
       "    <tr>\n",
       "      <th>6422</th>\n",
       "      <td>2</td>\n",
       "      <td>b209a35a-bee6-4b30-a8c3-931d429ac4db</td>\n",
       "      <td>184.0</td>\n",
       "      <td>2019-06-16T16:05:25+00:00</td>\n",
       "      <td>USD</td>\n",
       "      <td>8.5</td>\n",
       "      <td>Nike</td>\n",
       "      <td>black</td>\n",
       "      <td>Air VaporMax Plus</td>\n",
       "      <td>0</td>\n",
       "      <td>Triple</td>\n",
       "      <td>0</td>\n",
       "      <td>2018-01-25 23-59-59</td>\n",
       "      <td>144</td>\n",
       "      <td>black</td>\n",
       "    </tr>\n",
       "    <tr>\n",
       "      <th>6423</th>\n",
       "      <td>3</td>\n",
       "      <td>b209a35a-bee6-4b30-a8c3-931d429ac4db</td>\n",
       "      <td>200.0</td>\n",
       "      <td>2019-06-16T14:52:33+00:00</td>\n",
       "      <td>USD</td>\n",
       "      <td>6.5</td>\n",
       "      <td>Nike</td>\n",
       "      <td>black</td>\n",
       "      <td>Air VaporMax Plus</td>\n",
       "      <td>0</td>\n",
       "      <td>Triple</td>\n",
       "      <td>0</td>\n",
       "      <td>2018-01-25 23-59-59</td>\n",
       "      <td>144</td>\n",
       "      <td>black</td>\n",
       "    </tr>\n",
       "    <tr>\n",
       "      <th>6424</th>\n",
       "      <td>4</td>\n",
       "      <td>b209a35a-bee6-4b30-a8c3-931d429ac4db</td>\n",
       "      <td>179.0</td>\n",
       "      <td>2019-06-16T04:32:41+00:00</td>\n",
       "      <td>USD</td>\n",
       "      <td>9.5</td>\n",
       "      <td>Nike</td>\n",
       "      <td>black</td>\n",
       "      <td>Air VaporMax Plus</td>\n",
       "      <td>0</td>\n",
       "      <td>Triple</td>\n",
       "      <td>0</td>\n",
       "      <td>2018-01-25 23-59-59</td>\n",
       "      <td>144</td>\n",
       "      <td>black</td>\n",
       "    </tr>\n",
       "  </tbody>\n",
       "</table>\n",
       "</div>"
      ],
      "text/plain": [
       "      Unnamed: 0_x                                   sku  localAmount  \\\n",
       "6420             0  b209a35a-bee6-4b30-a8c3-931d429ac4db        179.0   \n",
       "6421             1  b209a35a-bee6-4b30-a8c3-931d429ac4db        180.0   \n",
       "6422             2  b209a35a-bee6-4b30-a8c3-931d429ac4db        184.0   \n",
       "6423             3  b209a35a-bee6-4b30-a8c3-931d429ac4db        200.0   \n",
       "6424             4  b209a35a-bee6-4b30-a8c3-931d429ac4db        179.0   \n",
       "\n",
       "                      createdAt localCurrency shoeSize brand color1  \\\n",
       "6420  2019-06-16T21:30:09+00:00           USD     11.0  Nike  black   \n",
       "6421  2019-06-16T17:04:27+00:00           USD     12.0  Nike  black   \n",
       "6422  2019-06-16T16:05:25+00:00           USD      8.5  Nike  black   \n",
       "6423  2019-06-16T14:52:33+00:00           USD      6.5  Nike  black   \n",
       "6424  2019-06-16T04:32:41+00:00           USD      9.5  Nike  black   \n",
       "\n",
       "                  model  collab    name  is_retro          releaseDate  \\\n",
       "6420  Air VaporMax Plus       0  Triple         0  2018-01-25 23-59-59   \n",
       "6421  Air VaporMax Plus       0  Triple         0  2018-01-25 23-59-59   \n",
       "6422  Air VaporMax Plus       0  Triple         0  2018-01-25 23-59-59   \n",
       "6423  Air VaporMax Plus       0  Triple         0  2018-01-25 23-59-59   \n",
       "6424  Air VaporMax Plus       0  Triple         0  2018-01-25 23-59-59   \n",
       "\n",
       "      Unnamed: 0_y colors  \n",
       "6420           144  black  \n",
       "6421           144  black  \n",
       "6422           144  black  \n",
       "6423           144  black  \n",
       "6424           144  black  "
      ]
     },
     "execution_count": 37,
     "metadata": {},
     "output_type": "execute_result"
    }
   ],
   "source": [
    "top_colors.head()"
   ]
  },
  {
   "cell_type": "code",
   "execution_count": 47,
   "metadata": {},
   "outputs": [],
   "source": [
    "master_df = top_colors.loc[:, ('sku', 'localAmount', 'createdAt', 'shoeSize', 'brand', 'model', 'color1', 'collab', 'is_retro', 'releaseDate', 'colors')]"
   ]
  },
  {
   "cell_type": "code",
   "execution_count": 48,
   "metadata": {},
   "outputs": [],
   "source": [
    "master_df.createdAt = master_df.createdAt.str.replace('T', ' ')\n",
    "master_df.createdAt = master_df.createdAt.str.split(' ').str[0]\n",
    "master_df.releaseDate = master_df.releaseDate.str.split(' ').str[0]"
   ]
  },
  {
   "cell_type": "code",
   "execution_count": 49,
   "metadata": {},
   "outputs": [],
   "source": [
    "master_df.createdAt = pd.to_datetime(master_df.createdAt)"
   ]
  },
  {
   "cell_type": "code",
   "execution_count": 50,
   "metadata": {},
   "outputs": [],
   "source": [
    "master_df.releaseDate = pd.to_datetime(master_df.releaseDate, errors='coerce')"
   ]
  },
  {
   "cell_type": "code",
   "execution_count": 51,
   "metadata": {},
   "outputs": [],
   "source": [
    "master_df['releaseYear'] = master_df.releaseDate.dt.year\n",
    "master_df['releaseYear'] = master_df.releaseYear.astype('category')"
   ]
  },
  {
   "cell_type": "code",
   "execution_count": 52,
   "metadata": {},
   "outputs": [],
   "source": [
    "master_df['time_to_sale'] = (master_df.createdAt - master_df.releaseDate).dt.days"
   ]
  },
  {
   "cell_type": "code",
   "execution_count": 53,
   "metadata": {},
   "outputs": [],
   "source": [
    "master_df['day_of_week'] = master_df['createdAt'].dt.day_name()"
   ]
  },
  {
   "cell_type": "code",
   "execution_count": 54,
   "metadata": {},
   "outputs": [],
   "source": [
    "master_df['shoeSize'] = master_df.shoeSize.astype('category')"
   ]
  },
  {
   "cell_type": "code",
   "execution_count": 55,
   "metadata": {},
   "outputs": [
    {
     "data": {
      "text/html": [
       "<div>\n",
       "<style scoped>\n",
       "    .dataframe tbody tr th:only-of-type {\n",
       "        vertical-align: middle;\n",
       "    }\n",
       "\n",
       "    .dataframe tbody tr th {\n",
       "        vertical-align: top;\n",
       "    }\n",
       "\n",
       "    .dataframe thead th {\n",
       "        text-align: right;\n",
       "    }\n",
       "</style>\n",
       "<table border=\"1\" class=\"dataframe\">\n",
       "  <thead>\n",
       "    <tr style=\"text-align: right;\">\n",
       "      <th></th>\n",
       "      <th>sku</th>\n",
       "      <th>localAmount</th>\n",
       "      <th>createdAt</th>\n",
       "      <th>shoeSize</th>\n",
       "      <th>brand</th>\n",
       "      <th>model</th>\n",
       "      <th>color1</th>\n",
       "      <th>collab</th>\n",
       "      <th>is_retro</th>\n",
       "      <th>releaseDate</th>\n",
       "      <th>colors</th>\n",
       "      <th>releaseYear</th>\n",
       "      <th>time_to_sale</th>\n",
       "      <th>day_of_week</th>\n",
       "    </tr>\n",
       "  </thead>\n",
       "  <tbody>\n",
       "    <tr>\n",
       "      <th>6420</th>\n",
       "      <td>b209a35a-bee6-4b30-a8c3-931d429ac4db</td>\n",
       "      <td>179.0</td>\n",
       "      <td>2019-06-16</td>\n",
       "      <td>11.0</td>\n",
       "      <td>Nike</td>\n",
       "      <td>Air VaporMax Plus</td>\n",
       "      <td>black</td>\n",
       "      <td>0</td>\n",
       "      <td>0</td>\n",
       "      <td>2018-01-25</td>\n",
       "      <td>black</td>\n",
       "      <td>2018</td>\n",
       "      <td>507</td>\n",
       "      <td>Sunday</td>\n",
       "    </tr>\n",
       "    <tr>\n",
       "      <th>6421</th>\n",
       "      <td>b209a35a-bee6-4b30-a8c3-931d429ac4db</td>\n",
       "      <td>180.0</td>\n",
       "      <td>2019-06-16</td>\n",
       "      <td>12.0</td>\n",
       "      <td>Nike</td>\n",
       "      <td>Air VaporMax Plus</td>\n",
       "      <td>black</td>\n",
       "      <td>0</td>\n",
       "      <td>0</td>\n",
       "      <td>2018-01-25</td>\n",
       "      <td>black</td>\n",
       "      <td>2018</td>\n",
       "      <td>507</td>\n",
       "      <td>Sunday</td>\n",
       "    </tr>\n",
       "    <tr>\n",
       "      <th>6422</th>\n",
       "      <td>b209a35a-bee6-4b30-a8c3-931d429ac4db</td>\n",
       "      <td>184.0</td>\n",
       "      <td>2019-06-16</td>\n",
       "      <td>8.5</td>\n",
       "      <td>Nike</td>\n",
       "      <td>Air VaporMax Plus</td>\n",
       "      <td>black</td>\n",
       "      <td>0</td>\n",
       "      <td>0</td>\n",
       "      <td>2018-01-25</td>\n",
       "      <td>black</td>\n",
       "      <td>2018</td>\n",
       "      <td>507</td>\n",
       "      <td>Sunday</td>\n",
       "    </tr>\n",
       "    <tr>\n",
       "      <th>6423</th>\n",
       "      <td>b209a35a-bee6-4b30-a8c3-931d429ac4db</td>\n",
       "      <td>200.0</td>\n",
       "      <td>2019-06-16</td>\n",
       "      <td>6.5</td>\n",
       "      <td>Nike</td>\n",
       "      <td>Air VaporMax Plus</td>\n",
       "      <td>black</td>\n",
       "      <td>0</td>\n",
       "      <td>0</td>\n",
       "      <td>2018-01-25</td>\n",
       "      <td>black</td>\n",
       "      <td>2018</td>\n",
       "      <td>507</td>\n",
       "      <td>Sunday</td>\n",
       "    </tr>\n",
       "    <tr>\n",
       "      <th>6424</th>\n",
       "      <td>b209a35a-bee6-4b30-a8c3-931d429ac4db</td>\n",
       "      <td>179.0</td>\n",
       "      <td>2019-06-16</td>\n",
       "      <td>9.5</td>\n",
       "      <td>Nike</td>\n",
       "      <td>Air VaporMax Plus</td>\n",
       "      <td>black</td>\n",
       "      <td>0</td>\n",
       "      <td>0</td>\n",
       "      <td>2018-01-25</td>\n",
       "      <td>black</td>\n",
       "      <td>2018</td>\n",
       "      <td>507</td>\n",
       "      <td>Sunday</td>\n",
       "    </tr>\n",
       "  </tbody>\n",
       "</table>\n",
       "</div>"
      ],
      "text/plain": [
       "                                       sku  localAmount  createdAt shoeSize  \\\n",
       "6420  b209a35a-bee6-4b30-a8c3-931d429ac4db        179.0 2019-06-16     11.0   \n",
       "6421  b209a35a-bee6-4b30-a8c3-931d429ac4db        180.0 2019-06-16     12.0   \n",
       "6422  b209a35a-bee6-4b30-a8c3-931d429ac4db        184.0 2019-06-16      8.5   \n",
       "6423  b209a35a-bee6-4b30-a8c3-931d429ac4db        200.0 2019-06-16      6.5   \n",
       "6424  b209a35a-bee6-4b30-a8c3-931d429ac4db        179.0 2019-06-16      9.5   \n",
       "\n",
       "     brand              model color1  collab  is_retro releaseDate colors  \\\n",
       "6420  Nike  Air VaporMax Plus  black       0         0  2018-01-25  black   \n",
       "6421  Nike  Air VaporMax Plus  black       0         0  2018-01-25  black   \n",
       "6422  Nike  Air VaporMax Plus  black       0         0  2018-01-25  black   \n",
       "6423  Nike  Air VaporMax Plus  black       0         0  2018-01-25  black   \n",
       "6424  Nike  Air VaporMax Plus  black       0         0  2018-01-25  black   \n",
       "\n",
       "     releaseYear  time_to_sale day_of_week  \n",
       "6420        2018           507      Sunday  \n",
       "6421        2018           507      Sunday  \n",
       "6422        2018           507      Sunday  \n",
       "6423        2018           507      Sunday  \n",
       "6424        2018           507      Sunday  "
      ]
     },
     "execution_count": 55,
     "metadata": {},
     "output_type": "execute_result"
    }
   ],
   "source": [
    "master_df.head()"
   ]
  },
  {
   "cell_type": "code",
   "execution_count": 56,
   "metadata": {},
   "outputs": [],
   "source": [
    "df = master_df.dropna()"
   ]
  },
  {
   "cell_type": "code",
   "execution_count": 57,
   "metadata": {},
   "outputs": [],
   "source": [
    "df.to_csv('cleaned_data.csv')"
   ]
  },
  {
   "cell_type": "code",
   "execution_count": null,
   "metadata": {},
   "outputs": [],
   "source": [
    "day_0 = df[df['time_to_sale'] == 0]"
   ]
  },
  {
   "cell_type": "code",
   "execution_count": null,
   "metadata": {},
   "outputs": [],
   "source": [
    "day_0['localAmount'] = np.log10(day_0['localAmount'])"
   ]
  },
  {
   "cell_type": "raw",
   "metadata": {},
   "source": [
    "day_0.head()"
   ]
  },
  {
   "cell_type": "code",
   "execution_count": null,
   "metadata": {},
   "outputs": [],
   "source": [
    "model_df = day_0.loc[:, ('localAmount', 'brand', 'color1', 'collab', 'is_retro', 'day_of_week', 'releaseYear')]"
   ]
  },
  {
   "cell_type": "code",
   "execution_count": null,
   "metadata": {},
   "outputs": [],
   "source": [
    "model_df.head()"
   ]
  },
  {
   "cell_type": "code",
   "execution_count": null,
   "metadata": {},
   "outputs": [],
   "source": []
  },
  {
   "cell_type": "code",
   "execution_count": null,
   "metadata": {},
   "outputs": [],
   "source": []
  },
  {
   "cell_type": "code",
   "execution_count": null,
   "metadata": {},
   "outputs": [],
   "source": [
    "\n"
   ]
  },
  {
   "cell_type": "code",
   "execution_count": null,
   "metadata": {},
   "outputs": [],
   "source": [
    "\n",
    " "
   ]
  },
  {
   "cell_type": "code",
   "execution_count": null,
   "metadata": {},
   "outputs": [],
   "source": []
  },
  {
   "cell_type": "code",
   "execution_count": null,
   "metadata": {},
   "outputs": [],
   "source": []
  },
  {
   "cell_type": "raw",
   "metadata": {},
   "source": [
    "# The baseline predictions are the historical averages\n",
    "baseline_preds = test_features[:, feature_list.index('average')]\n",
    "# Baseline errors, and display average baseline error\n",
    "baseline_errors = abs(baseline_preds - test_labels)\n",
    "print('Average baseline error: ', round(np.mean(baseline_errors), 2))\n",
    "Average baseline error:  5.06 degrees."
   ]
  },
  {
   "cell_type": "raw",
   "metadata": {},
   "source": []
  },
  {
   "cell_type": "raw",
   "metadata": {},
   "source": [
    "split_date = subset[\"date\"].str.split(\" \", n = 1, expand = True)\n",
    "split_date.columns = ['date']\n",
    "split_date['date_copy'] = split_date['date']"
   ]
  },
  {
   "cell_type": "raw",
   "metadata": {},
   "source": [
    "split_date.head()"
   ]
  }
 ],
 "metadata": {
  "kernelspec": {
   "display_name": "Python 3",
   "language": "python",
   "name": "python3"
  },
  "language_info": {
   "codemirror_mode": {
    "name": "ipython",
    "version": 3
   },
   "file_extension": ".py",
   "mimetype": "text/x-python",
   "name": "python",
   "nbconvert_exporter": "python",
   "pygments_lexer": "ipython3",
   "version": "3.7.3"
  }
 },
 "nbformat": 4,
 "nbformat_minor": 2
}
