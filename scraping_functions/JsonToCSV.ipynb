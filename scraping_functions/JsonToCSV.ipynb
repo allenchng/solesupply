{
 "cells": [
  {
   "cell_type": "code",
   "execution_count": 2,
   "metadata": {},
   "outputs": [],
   "source": [
    "import json\n",
    "import csv\n",
    "from pandas.io.json import json_normalize #package for flattening json in pandas df\n",
    "import os\n",
    "import pandas as pd"
   ]
  },
  {
   "cell_type": "code",
   "execution_count": 2,
   "metadata": {},
   "outputs": [],
   "source": [
    "def ConvertJson(file):\n",
    "    base = file.split('/')[-1]\n",
    "    sku = base.split('.')[0]\n",
    "    \n",
    "    with open(file) as f:\n",
    "        d = json.load(f)\n",
    "    \n",
    "    df = json_normalize(d['ProductActivity'])\n",
    "    df['sku'] = sku\n",
    "    select_df = df.loc[:, ('sku', 'localAmount', 'createdAt', 'localCurrency', 'shoeSize')]\n",
    "    \n",
    "    return(select_df)"
   ]
  },
  {
   "cell_type": "raw",
   "metadata": {},
   "source": [
    "def ConcatJson(input_dir):\n",
    "    json_list = [f for f in os.listdir(input_dir) if not f.startswith('.')]\n",
    "    \n",
    "    d = {'sku':[],\n",
    "     'localAmount':[],\n",
    "     'createdAt':[],\n",
    "     'localCurrency':[],\n",
    "     'shoeSize':[]}\n",
    "\n",
    "    df = pd.DataFrame(d)\n",
    "    \n",
    "    for item in json_list:\n",
    "        file_str = input_dir + ''.join(item)\n",
    "        tmp_df = ConvertJson(file_str)\n",
    "    \n",
    "        df = pd.concat([df, tmp_df])\n",
    "    \n",
    "    return(df)"
   ]
  },
  {
   "cell_type": "code",
   "execution_count": 3,
   "metadata": {},
   "outputs": [],
   "source": [
    "def ConcatJson(input_dir):\n",
    "    json_list = [f for f in os.listdir(input_dir) if not f.startswith('.')]\n",
    "    \n",
    "    d = {'sku':[],\n",
    "     'localAmount':[],\n",
    "     'createdAt':[],\n",
    "     'localCurrency':[],\n",
    "     'shoeSize':[]}\n",
    "\n",
    "    df = pd.DataFrame(d)\n",
    "    \n",
    "    for item in json_list:\n",
    "        \n",
    "        try:\n",
    "            file_str = input_dir + ''.join(item)\n",
    "            tmp_df = ConvertJson(file_str)\n",
    "    \n",
    "            df = pd.concat([df, tmp_df])\n",
    "        except KeyError:\n",
    "            continue\n",
    "    \n",
    "    return(df)"
   ]
  },
  {
   "cell_type": "code",
   "execution_count": 1,
   "metadata": {},
   "outputs": [],
   "source": [
    "input_dir = './stockx_jsons/'"
   ]
  },
  {
   "cell_type": "code",
   "execution_count": 5,
   "metadata": {},
   "outputs": [],
   "source": [
    "sneaker_transactions = ConcatJson(input_dir)"
   ]
  },
  {
   "cell_type": "code",
   "execution_count": 6,
   "metadata": {},
   "outputs": [],
   "source": [
    "sneaker_transactions.to_csv('sneaker_transactions.csv')"
   ]
  }
 ],
 "metadata": {
  "kernelspec": {
   "display_name": "Python 3",
   "language": "python",
   "name": "python3"
  },
  "language_info": {
   "codemirror_mode": {
    "name": "ipython",
    "version": 3
   },
   "file_extension": ".py",
   "mimetype": "text/x-python",
   "name": "python",
   "nbconvert_exporter": "python",
   "pygments_lexer": "ipython3",
   "version": "3.7.3"
  }
 },
 "nbformat": 4,
 "nbformat_minor": 2
}
